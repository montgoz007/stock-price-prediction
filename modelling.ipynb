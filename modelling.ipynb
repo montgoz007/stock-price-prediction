{
 "cells": [
  {
   "attachments": {},
   "cell_type": "markdown",
   "metadata": {},
   "source": [
    "From previous version"
   ]
  },
  {
   "cell_type": "code",
   "execution_count": null,
   "metadata": {},
   "outputs": [],
   "source": [
    "X = tickerDf[['Open', 'Close_lag1', 'day_of_year', 'day_of_week', 'week', 'month']]\n",
    "y = tickerDf['day_change_signal']"
   ]
  },
  {
   "cell_type": "code",
   "execution_count": null,
   "metadata": {},
   "outputs": [],
   "source": [
    "split = X.index.max() -dt.timedelta(days=1*365)\n",
    "\n",
    "X_train = X[X.index < split]\n",
    "y_train = y[y.index < split]\n",
    "X_test = X[X.index >= split]\n",
    "y_test = y[y.index >= split]"
   ]
  },
  {
   "cell_type": "code",
   "execution_count": null,
   "metadata": {},
   "outputs": [],
   "source": [
    "print(f\"The shape of the training data is {X_train.shape} features and {y_train.shape}\")\n",
    "print(\"--------------------------\")\n",
    "print(f\"The shape of the testing data is {X_test.shape} features and {y_test.shape}\")"
   ]
  },
  {
   "cell_type": "code",
   "execution_count": null,
   "metadata": {},
   "outputs": [],
   "source": [
    "from sklearn import preprocessing\n",
    "le = preprocessing.LabelEncoder()\n",
    "y_train_enc = pd.Series(le.fit_transform(y_train))\n",
    "y_test_enc = pd.Series(le.transform(y_test))"
   ]
  },
  {
   "cell_type": "code",
   "execution_count": null,
   "metadata": {},
   "outputs": [],
   "source": [
    "y_train_enc.value_counts(normalize=True)"
   ]
  },
  {
   "cell_type": "code",
   "execution_count": null,
   "metadata": {},
   "outputs": [],
   "source": [
    "from sklearn.linear_model import LogisticRegression\n",
    "from sklearn.svm import SVC\n",
    "from sklearn.metrics import r2_score, accuracy_score, classification_report, roc_auc_score, recall_score, precision_score, f1_score, cohen_kappa_score"
   ]
  },
  {
   "cell_type": "code",
   "execution_count": null,
   "metadata": {},
   "outputs": [],
   "source": [
    "perf_dict = dict()\n",
    "model_dict = {\n",
    "    'logr_clf':LogisticRegression(random_state=0),\n",
    "    'svc_clf':SVC(gamma='auto'), \n",
    "}"
   ]
  },
  {
   "cell_type": "code",
   "execution_count": null,
   "metadata": {},
   "outputs": [],
   "source": [
    "def logPerf(y_pred, y_proba, y_test):\n",
    "\n",
    "    # Log performance metrics\n",
    "    perf_dict = {\n",
    "        'accuracy': accuracy_score(y_test, y_pred),\n",
    "        'auc': roc_auc_score(y_test, y_proba, multi_class='ovr'),\n",
    "        'precision': precision_score(y_test, y_pred, average='weighted'),\n",
    "        'recall': recall_score(y_test, y_pred, average='weighted'),\n",
    "        'f1': f1_score(y_test, y_pred, average='weighted'),\n",
    "        'kappa': cohen_kappa_score(y_test, y_pred)\n",
    "    }\n",
    "\n",
    "    ret_dict = {\n",
    "        'y_pred': y_pred,\n",
    "        'y_proba':y_proba,\n",
    "        'perf_results': perf_dict\n",
    "    }\n",
    "\n",
    "    return ret_dict"
   ]
  },
  {
   "cell_type": "code",
   "execution_count": null,
   "metadata": {},
   "outputs": [],
   "source": [
    "for clf in model_dict:\n",
    "    print(clf)\n",
    "    # Define classifer\n",
    "    clf = model_dict[i].fit(X_train, y_train_enc)\n",
    "    y_pred = clf.predict(X_test)\n",
    "    y_proba = clf.predict_proba(X_test)\n",
    "    perf_dict[clf] = logPerf(y_pred, y_proba, X_test)"
   ]
  },
  {
   "cell_type": "code",
   "execution_count": null,
   "metadata": {},
   "outputs": [],
   "source": [
    "model_name = 'logr_clf'\n",
    "\n",
    "# Define classifer\n",
    "clf = LogisticRegression(random_state=0).fit(X_train, y_train_enc)\n",
    "y_pred = clf.predict(X_test)\n",
    "y_proba = clf.predict_proba(X_test)\n",
    "\n",
    "# Log performance metrics\n",
    "perf_dict[model_name] = {\n",
    "    'accuracy': accuracy_score(y_test_enc, y_pred),\n",
    "    'auc': roc_auc_score(y_test_enc, y_proba, multi_class='ovr'),\n",
    "    'precision': precision_score(y_test_enc, y_pred, average='weighted'),\n",
    "    'recall': recall_score(y_test_enc, y_pred, average='weighted'),\n",
    "    'f1': f1_score(y_test_enc, y_pred, average='weighted'),\n",
    "    'kappa': cohen_kappa_score(y_test_enc, y_pred)\n",
    "}"
   ]
  },
  {
   "cell_type": "code",
   "execution_count": null,
   "metadata": {},
   "outputs": [],
   "source": [
    "pd.DataFrame(perf_dict).T"
   ]
  }
 ],
 "metadata": {
  "kernelspec": {
   "display_name": "Python 3.9.2 64-bit",
   "language": "python",
   "name": "python3"
  },
  "language_info": {
   "name": "python",
   "version": "3.9.2"
  },
  "orig_nbformat": 4,
  "vscode": {
   "interpreter": {
    "hash": "9d103cc3f9115d4df4e55980364d0e4a4f2c6221c380150a421a47cb0c7045df"
   }
  }
 },
 "nbformat": 4,
 "nbformat_minor": 2
}

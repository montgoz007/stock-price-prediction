{
 "cells": [
  {
   "cell_type": "markdown",
   "metadata": {},
   "source": [
    "## Libraries"
   ]
  },
  {
   "cell_type": "code",
   "execution_count": 278,
   "metadata": {},
   "outputs": [],
   "source": [
    "import pandas as pd\n",
    "import numpy as np\n",
    "import datetime as dt\n",
    "import yfinance as yf"
   ]
  },
  {
   "cell_type": "markdown",
   "metadata": {},
   "source": [
    "## Functions"
   ]
  },
  {
   "cell_type": "code",
   "execution_count": 279,
   "metadata": {},
   "outputs": [],
   "source": [
    "def daySignal(day_change):\n",
    "    if day_change > 0:\n",
    "        return 1\n",
    "    elif day_change < 0:\n",
    "        return -1\n",
    "    else:\n",
    "        return 0\n",
    "\n",
    "def addDateParts(df):\n",
    "    df['day_of_year'] = df.index.day\n",
    "    df['day_of_week'] = df.index.dayofweek\n",
    "    df['week'] = df.index.week\n",
    "    df['month'] = df.index.month\n",
    "    return df"
   ]
  },
  {
   "cell_type": "markdown",
   "metadata": {},
   "source": [
    "## Get Data"
   ]
  },
  {
   "cell_type": "code",
   "execution_count": 280,
   "metadata": {},
   "outputs": [
    {
     "name": "stderr",
     "output_type": "stream",
     "text": [
      "C:\\Users\\steph\\AppData\\Local\\Temp\\ipykernel_5384\\3779007080.py:12: FutureWarning: weekofyear and week have been deprecated, please use DatetimeIndex.isocalendar().week instead, which returns a Series. To exactly reproduce the behavior of week and weekofyear and return an Index, you may call pd.Int64Index(idx.isocalendar().week)\n",
      "  df['week'] = df.index.week\n"
     ]
    },
    {
     "data": {
      "text/html": [
       "<div>\n",
       "<style scoped>\n",
       "    .dataframe tbody tr th:only-of-type {\n",
       "        vertical-align: middle;\n",
       "    }\n",
       "\n",
       "    .dataframe tbody tr th {\n",
       "        vertical-align: top;\n",
       "    }\n",
       "\n",
       "    .dataframe thead th {\n",
       "        text-align: right;\n",
       "    }\n",
       "</style>\n",
       "<table border=\"1\" class=\"dataframe\">\n",
       "  <thead>\n",
       "    <tr style=\"text-align: right;\">\n",
       "      <th></th>\n",
       "      <th>Open</th>\n",
       "      <th>High</th>\n",
       "      <th>Low</th>\n",
       "      <th>Close</th>\n",
       "      <th>Volume</th>\n",
       "      <th>Dividends</th>\n",
       "      <th>Stock Splits</th>\n",
       "      <th>day_change</th>\n",
       "      <th>day_change_pct</th>\n",
       "      <th>day_change_signal</th>\n",
       "      <th>Close_lag1</th>\n",
       "      <th>High_lag1</th>\n",
       "      <th>Low_lag1</th>\n",
       "      <th>day_of_year</th>\n",
       "      <th>day_of_week</th>\n",
       "      <th>week</th>\n",
       "      <th>month</th>\n",
       "    </tr>\n",
       "    <tr>\n",
       "      <th>Date</th>\n",
       "      <th></th>\n",
       "      <th></th>\n",
       "      <th></th>\n",
       "      <th></th>\n",
       "      <th></th>\n",
       "      <th></th>\n",
       "      <th></th>\n",
       "      <th></th>\n",
       "      <th></th>\n",
       "      <th></th>\n",
       "      <th></th>\n",
       "      <th></th>\n",
       "      <th></th>\n",
       "      <th></th>\n",
       "      <th></th>\n",
       "      <th></th>\n",
       "      <th></th>\n",
       "    </tr>\n",
       "  </thead>\n",
       "  <tbody>\n",
       "    <tr>\n",
       "      <th>2017-01-03 00:00:00-05:00</th>\n",
       "      <td>57.838810</td>\n",
       "      <td>57.884867</td>\n",
       "      <td>57.230854</td>\n",
       "      <td>57.645370</td>\n",
       "      <td>20694100</td>\n",
       "      <td>0.0</td>\n",
       "      <td>0.0</td>\n",
       "      <td>-0.193440</td>\n",
       "      <td>-0.334447</td>\n",
       "      <td>-1</td>\n",
       "      <td>57.645370</td>\n",
       "      <td>57.884867</td>\n",
       "      <td>57.230854</td>\n",
       "      <td>3</td>\n",
       "      <td>1</td>\n",
       "      <td>1</td>\n",
       "      <td>1</td>\n",
       "    </tr>\n",
       "    <tr>\n",
       "      <th>2017-01-04 00:00:00-05:00</th>\n",
       "      <td>57.553258</td>\n",
       "      <td>57.801968</td>\n",
       "      <td>57.221644</td>\n",
       "      <td>57.387451</td>\n",
       "      <td>21340000</td>\n",
       "      <td>0.0</td>\n",
       "      <td>0.0</td>\n",
       "      <td>-0.165807</td>\n",
       "      <td>-0.288093</td>\n",
       "      <td>-1</td>\n",
       "      <td>57.645370</td>\n",
       "      <td>57.884867</td>\n",
       "      <td>57.230854</td>\n",
       "      <td>4</td>\n",
       "      <td>2</td>\n",
       "      <td>1</td>\n",
       "      <td>1</td>\n",
       "    </tr>\n",
       "    <tr>\n",
       "      <th>2017-01-05 00:00:00-05:00</th>\n",
       "      <td>57.286124</td>\n",
       "      <td>57.719065</td>\n",
       "      <td>57.138741</td>\n",
       "      <td>57.387451</td>\n",
       "      <td>24876000</td>\n",
       "      <td>0.0</td>\n",
       "      <td>0.0</td>\n",
       "      <td>0.101327</td>\n",
       "      <td>0.176878</td>\n",
       "      <td>1</td>\n",
       "      <td>57.387451</td>\n",
       "      <td>57.801968</td>\n",
       "      <td>57.221644</td>\n",
       "      <td>5</td>\n",
       "      <td>3</td>\n",
       "      <td>1</td>\n",
       "      <td>1</td>\n",
       "    </tr>\n",
       "    <tr>\n",
       "      <th>2017-01-06 00:00:00-05:00</th>\n",
       "      <td>57.387452</td>\n",
       "      <td>58.170429</td>\n",
       "      <td>57.147956</td>\n",
       "      <td>57.884872</td>\n",
       "      <td>19922900</td>\n",
       "      <td>0.0</td>\n",
       "      <td>0.0</td>\n",
       "      <td>0.497420</td>\n",
       "      <td>0.866775</td>\n",
       "      <td>1</td>\n",
       "      <td>57.387451</td>\n",
       "      <td>57.719065</td>\n",
       "      <td>57.138741</td>\n",
       "      <td>6</td>\n",
       "      <td>4</td>\n",
       "      <td>1</td>\n",
       "      <td>1</td>\n",
       "    </tr>\n",
       "    <tr>\n",
       "      <th>2017-01-09 00:00:00-05:00</th>\n",
       "      <td>57.811182</td>\n",
       "      <td>58.105952</td>\n",
       "      <td>57.608532</td>\n",
       "      <td>57.700645</td>\n",
       "      <td>20382700</td>\n",
       "      <td>0.0</td>\n",
       "      <td>0.0</td>\n",
       "      <td>-0.110537</td>\n",
       "      <td>-0.191203</td>\n",
       "      <td>-1</td>\n",
       "      <td>57.884872</td>\n",
       "      <td>58.170429</td>\n",
       "      <td>57.147956</td>\n",
       "      <td>9</td>\n",
       "      <td>0</td>\n",
       "      <td>2</td>\n",
       "      <td>1</td>\n",
       "    </tr>\n",
       "  </tbody>\n",
       "</table>\n",
       "</div>"
      ],
      "text/plain": [
       "                                Open       High        Low      Close  \\\n",
       "Date                                                                    \n",
       "2017-01-03 00:00:00-05:00  57.838810  57.884867  57.230854  57.645370   \n",
       "2017-01-04 00:00:00-05:00  57.553258  57.801968  57.221644  57.387451   \n",
       "2017-01-05 00:00:00-05:00  57.286124  57.719065  57.138741  57.387451   \n",
       "2017-01-06 00:00:00-05:00  57.387452  58.170429  57.147956  57.884872   \n",
       "2017-01-09 00:00:00-05:00  57.811182  58.105952  57.608532  57.700645   \n",
       "\n",
       "                             Volume  Dividends  Stock Splits  day_change  \\\n",
       "Date                                                                       \n",
       "2017-01-03 00:00:00-05:00  20694100        0.0           0.0   -0.193440   \n",
       "2017-01-04 00:00:00-05:00  21340000        0.0           0.0   -0.165807   \n",
       "2017-01-05 00:00:00-05:00  24876000        0.0           0.0    0.101327   \n",
       "2017-01-06 00:00:00-05:00  19922900        0.0           0.0    0.497420   \n",
       "2017-01-09 00:00:00-05:00  20382700        0.0           0.0   -0.110537   \n",
       "\n",
       "                           day_change_pct  day_change_signal  Close_lag1  \\\n",
       "Date                                                                       \n",
       "2017-01-03 00:00:00-05:00       -0.334447                 -1   57.645370   \n",
       "2017-01-04 00:00:00-05:00       -0.288093                 -1   57.645370   \n",
       "2017-01-05 00:00:00-05:00        0.176878                  1   57.387451   \n",
       "2017-01-06 00:00:00-05:00        0.866775                  1   57.387451   \n",
       "2017-01-09 00:00:00-05:00       -0.191203                 -1   57.884872   \n",
       "\n",
       "                           High_lag1   Low_lag1  day_of_year  day_of_week  \\\n",
       "Date                                                                        \n",
       "2017-01-03 00:00:00-05:00  57.884867  57.230854            3            1   \n",
       "2017-01-04 00:00:00-05:00  57.884867  57.230854            4            2   \n",
       "2017-01-05 00:00:00-05:00  57.801968  57.221644            5            3   \n",
       "2017-01-06 00:00:00-05:00  57.719065  57.138741            6            4   \n",
       "2017-01-09 00:00:00-05:00  58.170429  57.147956            9            0   \n",
       "\n",
       "                           week  month  \n",
       "Date                                    \n",
       "2017-01-03 00:00:00-05:00     1      1  \n",
       "2017-01-04 00:00:00-05:00     1      1  \n",
       "2017-01-05 00:00:00-05:00     1      1  \n",
       "2017-01-06 00:00:00-05:00     1      1  \n",
       "2017-01-09 00:00:00-05:00     2      1  "
      ]
     },
     "execution_count": 280,
     "metadata": {},
     "output_type": "execute_result"
    }
   ],
   "source": [
    "#define the ticker symbol\n",
    "tickerSymbol = 'MSFT'\n",
    "\n",
    "#get data on this ticker\n",
    "tickerData = yf.Ticker(tickerSymbol)\n",
    "\n",
    "#get the historical prices for this ticker\n",
    "tickerDf = tickerData.history(period='1D', start='2017-1-1', end='2023-1-13')\n",
    "\n",
    "# Some calculated variables\n",
    "tickerDf['day_change'] = tickerDf['Close'] - tickerDf['Open']\n",
    "tickerDf['day_change_pct'] = (tickerDf['day_change'] / tickerDf['Open']) * 100\n",
    "tickerDf['day_change_signal'] = tickerDf['day_change'].apply(daySignal)\n",
    "\n",
    "# Lagging close, high and low by one day\n",
    "for feature in ['Close', 'High', 'Low']:\n",
    "    tickerDf[f\"{feature}_lag1\"] = tickerDf[feature].shift(1).bfill() \n",
    "\n",
    "# Adding date features\n",
    "tickerDf = addDateParts(tickerDf)\n",
    "\n",
    "#see your data\n",
    "tickerDf.head(5)"
   ]
  },
  {
   "cell_type": "code",
   "execution_count": 281,
   "metadata": {},
   "outputs": [
    {
     "name": "stdout",
     "output_type": "stream",
     "text": [
      "<class 'pandas.core.frame.DataFrame'>\n",
      "DatetimeIndex: 1518 entries, 2017-01-03 00:00:00-05:00 to 2023-01-12 00:00:00-05:00\n",
      "Data columns (total 17 columns):\n",
      " #   Column             Non-Null Count  Dtype  \n",
      "---  ------             --------------  -----  \n",
      " 0   Open               1518 non-null   float64\n",
      " 1   High               1518 non-null   float64\n",
      " 2   Low                1518 non-null   float64\n",
      " 3   Close              1518 non-null   float64\n",
      " 4   Volume             1518 non-null   int64  \n",
      " 5   Dividends          1518 non-null   float64\n",
      " 6   Stock Splits       1518 non-null   float64\n",
      " 7   day_change         1518 non-null   float64\n",
      " 8   day_change_pct     1518 non-null   float64\n",
      " 9   day_change_signal  1518 non-null   int64  \n",
      " 10  Close_lag1         1518 non-null   float64\n",
      " 11  High_lag1          1518 non-null   float64\n",
      " 12  Low_lag1           1518 non-null   float64\n",
      " 13  day_of_year        1518 non-null   int64  \n",
      " 14  day_of_week        1518 non-null   int64  \n",
      " 15  week               1518 non-null   int64  \n",
      " 16  month              1518 non-null   int64  \n",
      "dtypes: float64(11), int64(6)\n",
      "memory usage: 213.5 KB\n"
     ]
    }
   ],
   "source": [
    "tickerDf.info()"
   ]
  },
  {
   "cell_type": "markdown",
   "metadata": {},
   "source": [
    "## EDA"
   ]
  },
  {
   "cell_type": "markdown",
   "metadata": {},
   "source": [
    "### Descriptive statistics"
   ]
  },
  {
   "cell_type": "code",
   "execution_count": 282,
   "metadata": {},
   "outputs": [
    {
     "data": {
      "text/html": [
       "<div>\n",
       "<style scoped>\n",
       "    .dataframe tbody tr th:only-of-type {\n",
       "        vertical-align: middle;\n",
       "    }\n",
       "\n",
       "    .dataframe tbody tr th {\n",
       "        vertical-align: top;\n",
       "    }\n",
       "\n",
       "    .dataframe thead th {\n",
       "        text-align: right;\n",
       "    }\n",
       "</style>\n",
       "<table border=\"1\" class=\"dataframe\">\n",
       "  <thead>\n",
       "    <tr style=\"text-align: right;\">\n",
       "      <th></th>\n",
       "      <th>count</th>\n",
       "      <th>mean</th>\n",
       "      <th>std</th>\n",
       "      <th>min</th>\n",
       "      <th>25%</th>\n",
       "      <th>50%</th>\n",
       "      <th>75%</th>\n",
       "      <th>max</th>\n",
       "    </tr>\n",
       "  </thead>\n",
       "  <tbody>\n",
       "    <tr>\n",
       "      <th>Open</th>\n",
       "      <td>1518.0</td>\n",
       "      <td>1.699785e+02</td>\n",
       "      <td>8.274119e+01</td>\n",
       "      <td>5.728612e+01</td>\n",
       "      <td>9.635903e+01</td>\n",
       "      <td>1.489470e+02</td>\n",
       "      <td>2.433916e+02</td>\n",
       "      <td>3.414208e+02</td>\n",
       "    </tr>\n",
       "    <tr>\n",
       "      <th>High</th>\n",
       "      <td>1518.0</td>\n",
       "      <td>1.717172e+02</td>\n",
       "      <td>8.366872e+01</td>\n",
       "      <td>5.771906e+01</td>\n",
       "      <td>9.718099e+01</td>\n",
       "      <td>1.530205e+02</td>\n",
       "      <td>2.456753e+02</td>\n",
       "      <td>3.464239e+02</td>\n",
       "    </tr>\n",
       "    <tr>\n",
       "      <th>Low</th>\n",
       "      <td>1518.0</td>\n",
       "      <td>1.681324e+02</td>\n",
       "      <td>8.174320e+01</td>\n",
       "      <td>5.706505e+01</td>\n",
       "      <td>9.541241e+01</td>\n",
       "      <td>1.477611e+02</td>\n",
       "      <td>2.406761e+02</td>\n",
       "      <td>3.390233e+02</td>\n",
       "    </tr>\n",
       "    <tr>\n",
       "      <th>Close</th>\n",
       "      <td>1518.0</td>\n",
       "      <td>1.700086e+02</td>\n",
       "      <td>8.274444e+01</td>\n",
       "      <td>5.738745e+01</td>\n",
       "      <td>9.642319e+01</td>\n",
       "      <td>1.507952e+02</td>\n",
       "      <td>2.433784e+02</td>\n",
       "      <td>3.399248e+02</td>\n",
       "    </tr>\n",
       "    <tr>\n",
       "      <th>Volume</th>\n",
       "      <td>1518.0</td>\n",
       "      <td>2.894869e+07</td>\n",
       "      <td>1.254223e+07</td>\n",
       "      <td>7.425600e+06</td>\n",
       "      <td>2.090828e+07</td>\n",
       "      <td>2.586475e+07</td>\n",
       "      <td>3.326102e+07</td>\n",
       "      <td>1.112421e+08</td>\n",
       "    </tr>\n",
       "    <tr>\n",
       "      <th>Dividends</th>\n",
       "      <td>1518.0</td>\n",
       "      <td>7.990777e-03</td>\n",
       "      <td>6.396157e-02</td>\n",
       "      <td>0.000000e+00</td>\n",
       "      <td>0.000000e+00</td>\n",
       "      <td>0.000000e+00</td>\n",
       "      <td>0.000000e+00</td>\n",
       "      <td>6.800000e-01</td>\n",
       "    </tr>\n",
       "    <tr>\n",
       "      <th>Stock Splits</th>\n",
       "      <td>1518.0</td>\n",
       "      <td>0.000000e+00</td>\n",
       "      <td>0.000000e+00</td>\n",
       "      <td>0.000000e+00</td>\n",
       "      <td>0.000000e+00</td>\n",
       "      <td>0.000000e+00</td>\n",
       "      <td>0.000000e+00</td>\n",
       "      <td>0.000000e+00</td>\n",
       "    </tr>\n",
       "    <tr>\n",
       "      <th>day_change</th>\n",
       "      <td>1518.0</td>\n",
       "      <td>3.017711e-02</td>\n",
       "      <td>2.802268e+00</td>\n",
       "      <td>-1.552455e+01</td>\n",
       "      <td>-1.009312e+00</td>\n",
       "      <td>1.024580e-01</td>\n",
       "      <td>1.119345e+00</td>\n",
       "      <td>2.192024e+01</td>\n",
       "    </tr>\n",
       "    <tr>\n",
       "      <th>day_change_pct</th>\n",
       "      <td>1518.0</td>\n",
       "      <td>2.779145e-02</td>\n",
       "      <td>1.403093e+00</td>\n",
       "      <td>-5.924653e+00</td>\n",
       "      <td>-6.753313e-01</td>\n",
       "      <td>8.814980e-02</td>\n",
       "      <td>7.919621e-01</td>\n",
       "      <td>8.102450e+00</td>\n",
       "    </tr>\n",
       "    <tr>\n",
       "      <th>day_change_signal</th>\n",
       "      <td>1518.0</td>\n",
       "      <td>7.773386e-02</td>\n",
       "      <td>9.959799e-01</td>\n",
       "      <td>-1.000000e+00</td>\n",
       "      <td>-1.000000e+00</td>\n",
       "      <td>1.000000e+00</td>\n",
       "      <td>1.000000e+00</td>\n",
       "      <td>1.000000e+00</td>\n",
       "    </tr>\n",
       "    <tr>\n",
       "      <th>Close_lag1</th>\n",
       "      <td>1518.0</td>\n",
       "      <td>1.698895e+02</td>\n",
       "      <td>8.277595e+01</td>\n",
       "      <td>5.738745e+01</td>\n",
       "      <td>9.634699e+01</td>\n",
       "      <td>1.503091e+02</td>\n",
       "      <td>2.433784e+02</td>\n",
       "      <td>3.399248e+02</td>\n",
       "    </tr>\n",
       "    <tr>\n",
       "      <th>High_lag1</th>\n",
       "      <td>1518.0</td>\n",
       "      <td>1.715973e+02</td>\n",
       "      <td>8.370136e+01</td>\n",
       "      <td>5.771906e+01</td>\n",
       "      <td>9.700520e+01</td>\n",
       "      <td>1.521429e+02</td>\n",
       "      <td>2.456753e+02</td>\n",
       "      <td>3.464239e+02</td>\n",
       "    </tr>\n",
       "    <tr>\n",
       "      <th>Low_lag1</th>\n",
       "      <td>1518.0</td>\n",
       "      <td>1.680162e+02</td>\n",
       "      <td>8.177545e+01</td>\n",
       "      <td>5.706505e+01</td>\n",
       "      <td>9.535265e+01</td>\n",
       "      <td>1.473259e+02</td>\n",
       "      <td>2.406761e+02</td>\n",
       "      <td>3.390233e+02</td>\n",
       "    </tr>\n",
       "    <tr>\n",
       "      <th>day_of_year</th>\n",
       "      <td>1518.0</td>\n",
       "      <td>1.569499e+01</td>\n",
       "      <td>8.763793e+00</td>\n",
       "      <td>1.000000e+00</td>\n",
       "      <td>8.000000e+00</td>\n",
       "      <td>1.600000e+01</td>\n",
       "      <td>2.300000e+01</td>\n",
       "      <td>3.100000e+01</td>\n",
       "    </tr>\n",
       "    <tr>\n",
       "      <th>day_of_week</th>\n",
       "      <td>1518.0</td>\n",
       "      <td>2.025033e+00</td>\n",
       "      <td>1.398523e+00</td>\n",
       "      <td>0.000000e+00</td>\n",
       "      <td>1.000000e+00</td>\n",
       "      <td>2.000000e+00</td>\n",
       "      <td>3.000000e+00</td>\n",
       "      <td>4.000000e+00</td>\n",
       "    </tr>\n",
       "    <tr>\n",
       "      <th>week</th>\n",
       "      <td>1518.0</td>\n",
       "      <td>2.649934e+01</td>\n",
       "      <td>1.503162e+01</td>\n",
       "      <td>1.000000e+00</td>\n",
       "      <td>1.325000e+01</td>\n",
       "      <td>2.650000e+01</td>\n",
       "      <td>4.000000e+01</td>\n",
       "      <td>5.300000e+01</td>\n",
       "    </tr>\n",
       "    <tr>\n",
       "      <th>month</th>\n",
       "      <td>1518.0</td>\n",
       "      <td>6.513834e+00</td>\n",
       "      <td>3.440923e+00</td>\n",
       "      <td>1.000000e+00</td>\n",
       "      <td>4.000000e+00</td>\n",
       "      <td>7.000000e+00</td>\n",
       "      <td>1.000000e+01</td>\n",
       "      <td>1.200000e+01</td>\n",
       "    </tr>\n",
       "  </tbody>\n",
       "</table>\n",
       "</div>"
      ],
      "text/plain": [
       "                    count          mean           std           min  \\\n",
       "Open               1518.0  1.699785e+02  8.274119e+01  5.728612e+01   \n",
       "High               1518.0  1.717172e+02  8.366872e+01  5.771906e+01   \n",
       "Low                1518.0  1.681324e+02  8.174320e+01  5.706505e+01   \n",
       "Close              1518.0  1.700086e+02  8.274444e+01  5.738745e+01   \n",
       "Volume             1518.0  2.894869e+07  1.254223e+07  7.425600e+06   \n",
       "Dividends          1518.0  7.990777e-03  6.396157e-02  0.000000e+00   \n",
       "Stock Splits       1518.0  0.000000e+00  0.000000e+00  0.000000e+00   \n",
       "day_change         1518.0  3.017711e-02  2.802268e+00 -1.552455e+01   \n",
       "day_change_pct     1518.0  2.779145e-02  1.403093e+00 -5.924653e+00   \n",
       "day_change_signal  1518.0  7.773386e-02  9.959799e-01 -1.000000e+00   \n",
       "Close_lag1         1518.0  1.698895e+02  8.277595e+01  5.738745e+01   \n",
       "High_lag1          1518.0  1.715973e+02  8.370136e+01  5.771906e+01   \n",
       "Low_lag1           1518.0  1.680162e+02  8.177545e+01  5.706505e+01   \n",
       "day_of_year        1518.0  1.569499e+01  8.763793e+00  1.000000e+00   \n",
       "day_of_week        1518.0  2.025033e+00  1.398523e+00  0.000000e+00   \n",
       "week               1518.0  2.649934e+01  1.503162e+01  1.000000e+00   \n",
       "month              1518.0  6.513834e+00  3.440923e+00  1.000000e+00   \n",
       "\n",
       "                            25%           50%           75%           max  \n",
       "Open               9.635903e+01  1.489470e+02  2.433916e+02  3.414208e+02  \n",
       "High               9.718099e+01  1.530205e+02  2.456753e+02  3.464239e+02  \n",
       "Low                9.541241e+01  1.477611e+02  2.406761e+02  3.390233e+02  \n",
       "Close              9.642319e+01  1.507952e+02  2.433784e+02  3.399248e+02  \n",
       "Volume             2.090828e+07  2.586475e+07  3.326102e+07  1.112421e+08  \n",
       "Dividends          0.000000e+00  0.000000e+00  0.000000e+00  6.800000e-01  \n",
       "Stock Splits       0.000000e+00  0.000000e+00  0.000000e+00  0.000000e+00  \n",
       "day_change        -1.009312e+00  1.024580e-01  1.119345e+00  2.192024e+01  \n",
       "day_change_pct    -6.753313e-01  8.814980e-02  7.919621e-01  8.102450e+00  \n",
       "day_change_signal -1.000000e+00  1.000000e+00  1.000000e+00  1.000000e+00  \n",
       "Close_lag1         9.634699e+01  1.503091e+02  2.433784e+02  3.399248e+02  \n",
       "High_lag1          9.700520e+01  1.521429e+02  2.456753e+02  3.464239e+02  \n",
       "Low_lag1           9.535265e+01  1.473259e+02  2.406761e+02  3.390233e+02  \n",
       "day_of_year        8.000000e+00  1.600000e+01  2.300000e+01  3.100000e+01  \n",
       "day_of_week        1.000000e+00  2.000000e+00  3.000000e+00  4.000000e+00  \n",
       "week               1.325000e+01  2.650000e+01  4.000000e+01  5.300000e+01  \n",
       "month              4.000000e+00  7.000000e+00  1.000000e+01  1.200000e+01  "
      ]
     },
     "execution_count": 282,
     "metadata": {},
     "output_type": "execute_result"
    }
   ],
   "source": [
    "tickerDf.describe().T"
   ]
  },
  {
   "cell_type": "markdown",
   "metadata": {},
   "source": [
    "### Charting"
   ]
  },
  {
   "cell_type": "markdown",
   "metadata": {},
   "source": [
    "### Profit/loss"
   ]
  },
  {
   "cell_type": "code",
   "execution_count": 283,
   "metadata": {},
   "outputs": [
    {
     "data": {
      "text/plain": [
       "<AxesSubplot: title={'center': 'Number of days positive or negative change'}, ylabel='Frequency'>"
      ]
     },
     "execution_count": 283,
     "metadata": {},
     "output_type": "execute_result"
    },
    {
     "data": {
      "image/png": "[encoded data removed]",
      "text/plain": [
       "<Figure size 640x480 with 1 Axes>"
      ]
     },
     "metadata": {},
     "output_type": "display_data"
    }
   ],
   "source": [
    "tickerDf['day_change_signal'].plot.hist(bins=2, title='Number of days positive or negative change')"
   ]
  },
  {
   "cell_type": "code",
   "execution_count": 284,
   "metadata": {},
   "outputs": [
    {
     "data": {
      "text/plain": [
       "<AxesSubplot: xlabel='Date'>"
      ]
     },
     "execution_count": 284,
     "metadata": {},
     "output_type": "execute_result"
    },
    {
     "data": {
      "image/png": "[encoded data removed]",
      "text/plain": [
       "<Figure size 640x480 with 1 Axes>"
      ]
     },
     "metadata": {},
     "output_type": "display_data"
    }
   ],
   "source": [
    "tickerDf[['Open', 'Close']].plot()"
   ]
  },
  {
   "cell_type": "code",
   "execution_count": 285,
   "metadata": {},
   "outputs": [
    {
     "data": {
      "text/plain": [
       "<AxesSubplot: xlabel='Date'>"
      ]
     },
     "execution_count": 285,
     "metadata": {},
     "output_type": "execute_result"
    },
    {
     "data": {
      "image/png": "[encoded data removed]",
      "text/plain": [
       "<Figure size 640x480 with 1 Axes>"
      ]
     },
     "metadata": {},
     "output_type": "display_data"
    }
   ],
   "source": [
    "tickerDf['day_change_pct'].plot()"
   ]
  },
  {
   "cell_type": "markdown",
   "metadata": {},
   "source": [
    "## Data prep"
   ]
  },
  {
   "cell_type": "markdown",
   "metadata": {},
   "source": [
    "### Feature selection"
   ]
  },
  {
   "cell_type": "markdown",
   "metadata": {},
   "source": [
    "We will attempt to predict signal based only on open price and close from previous day"
   ]
  },
  {
   "cell_type": "code",
   "execution_count": 286,
   "metadata": {},
   "outputs": [],
   "source": [
    "X = tickerDf[['Open', 'Close_lag1', 'day_of_year', 'day_of_week', 'week', 'month']]\n",
    "y = tickerDf['day_change_signal']"
   ]
  },
  {
   "cell_type": "markdown",
   "metadata": {},
   "source": [
    "### Train/test splt"
   ]
  },
  {
   "cell_type": "code",
   "execution_count": 287,
   "metadata": {},
   "outputs": [],
   "source": [
    "split = X.index.max() -dt.timedelta(days=1*365)\n",
    "\n",
    "X_train = X[X.index < split]\n",
    "y_train = y[y.index < split]\n",
    "X_test = X[X.index >= split]\n",
    "y_test = y[y.index >= split]"
   ]
  },
  {
   "cell_type": "code",
   "execution_count": 288,
   "metadata": {},
   "outputs": [
    {
     "name": "stdout",
     "output_type": "stream",
     "text": [
      "The shape of the training data is (1266, 6) features and (1266,)\n",
      "--------------------------\n",
      "The shape of the testing data is (252, 6) features and (252,)\n"
     ]
    }
   ],
   "source": [
    "print(f\"The shape of the training data is {X_train.shape} features and {y_train.shape}\")\n",
    "print(\"--------------------------\")\n",
    "print(f\"The shape of the testing data is {X_test.shape} features and {y_test.shape}\")"
   ]
  },
  {
   "cell_type": "markdown",
   "metadata": {},
   "source": [
    "### Check class balance and encode label"
   ]
  },
  {
   "cell_type": "code",
   "execution_count": 289,
   "metadata": {},
   "outputs": [],
   "source": [
    "from sklearn import preprocessing\n",
    "le = preprocessing.LabelEncoder()\n",
    "y_train_enc = pd.Series(le.fit_transform(y_train))\n",
    "y_test_enc = pd.Series(le.transform(y_test))"
   ]
  },
  {
   "cell_type": "code",
   "execution_count": 290,
   "metadata": {},
   "outputs": [
    {
     "data": {
      "text/plain": [
       "2    0.539494\n",
       "0    0.458136\n",
       "1    0.002370\n",
       "dtype: float64"
      ]
     },
     "execution_count": 290,
     "metadata": {},
     "output_type": "execute_result"
    }
   ],
   "source": [
    "y_train_enc.value_counts(normalize=True)"
   ]
  },
  {
   "cell_type": "markdown",
   "metadata": {},
   "source": [
    "## Modelling"
   ]
  },
  {
   "cell_type": "code",
   "execution_count": 291,
   "metadata": {},
   "outputs": [],
   "source": [
    "from sklearn.linear_model import LogisticRegression\n",
    "from sklearn.svm import SVC\n",
    "from sklearn.metrics import r2_score, accuracy_score, classification_report, roc_auc_score, recall_score, precision_score, f1_score, cohen_kappa_score"
   ]
  },
  {
   "cell_type": "code",
   "execution_count": 296,
   "metadata": {},
   "outputs": [],
   "source": [
    "perf_dict = dict()\n",
    "model_dict = {\n",
    "    'logr_clf':LogisticRegression(random_state=0),\n",
    "    'svc_clf':SVC(gamma='auto'), \n",
    "}"
   ]
  },
  {
   "cell_type": "code",
   "execution_count": 297,
   "metadata": {},
   "outputs": [
    {
     "name": "stdout",
     "output_type": "stream",
     "text": [
      "logr_clf\n",
      "svc_clf\n"
     ]
    }
   ],
   "source": [
    "for i in model_dict:\n",
    "    print(i)"
   ]
  },
  {
   "cell_type": "code",
   "execution_count": 298,
   "metadata": {},
   "outputs": [],
   "source": [
    "def logPerf(y_pred, y_proba, y_test):\n",
    "\n",
    "    # Log performance metrics\n",
    "    perf_dict = {\n",
    "        'accuracy': accuracy_score(y_test, y_pred),\n",
    "        'auc': roc_auc_score(y_test, y_proba, multi_class='ovr'),\n",
    "        'precision': precision_score(y_test, y_pred, average='weighted'),\n",
    "        'recall': recall_score(y_test, y_pred, average='weighted'),\n",
    "        'f1': f1_score(y_test, y_pred, average='weighted'),\n",
    "        'kappa': cohen_kappa_score(y_test, y_pred)\n",
    "    }\n",
    "\n",
    "    ret_dict = {\n",
    "        'y_pred': y_pred,\n",
    "        'y_proba':y_proba,\n",
    "        'perf_results': perf_dict\n",
    "    }\n",
    "\n",
    "    return ret_dict"
   ]
  },
  {
   "cell_type": "code",
   "execution_count": 299,
   "metadata": {},
   "outputs": [
    {
     "name": "stdout",
     "output_type": "stream",
     "text": [
      "logr_clf\n"
     ]
    },
    {
     "ename": "AttributeError",
     "evalue": "predict_proba is not available when  probability=False",
     "output_type": "error",
     "traceback": [
      "\u001b[1;31m---------------------------------------------------------------------------\u001b[0m",
      "\u001b[1;31mAttributeError\u001b[0m                            Traceback (most recent call last)",
      "Cell \u001b[1;32mIn [299], line 6\u001b[0m\n\u001b[0;32m      4\u001b[0m clf \u001b[38;5;241m=\u001b[39m model_dict[i]\u001b[38;5;241m.\u001b[39mfit(X_train, y_train_enc)\n\u001b[0;32m      5\u001b[0m y_pred \u001b[38;5;241m=\u001b[39m clf\u001b[38;5;241m.\u001b[39mpredict(X_test)\n\u001b[1;32m----> 6\u001b[0m y_proba \u001b[38;5;241m=\u001b[39m clf\u001b[38;5;241m.\u001b[39mpredict_proba(X_test)\n\u001b[0;32m      7\u001b[0m perf_dict[clf] \u001b[38;5;241m=\u001b[39m logPerf(y_pred, y_proba, X_test)\n",
      "File \u001b[1;32mc:\\Users\\steph\\virtual_environments\\tsvenv\\lib\\site-packages\\sklearn\\utils\\metaestimators.py:127\u001b[0m, in \u001b[0;36m_AvailableIfDescriptor.__get__\u001b[1;34m(self, obj, owner)\u001b[0m\n\u001b[0;32m    121\u001b[0m attr_err \u001b[39m=\u001b[39m \u001b[39mAttributeError\u001b[39;00m(\n\u001b[0;32m    122\u001b[0m     \u001b[39mf\u001b[39m\u001b[39m\"\u001b[39m\u001b[39mThis \u001b[39m\u001b[39m{\u001b[39;00m\u001b[39mrepr\u001b[39m(owner\u001b[39m.\u001b[39m\u001b[39m__name__\u001b[39m)\u001b[39m}\u001b[39;00m\u001b[39m has no attribute \u001b[39m\u001b[39m{\u001b[39;00m\u001b[39mrepr\u001b[39m(\u001b[39mself\u001b[39m\u001b[39m.\u001b[39mattribute_name)\u001b[39m}\u001b[39;00m\u001b[39m\"\u001b[39m\n\u001b[0;32m    123\u001b[0m )\n\u001b[0;32m    124\u001b[0m \u001b[39mif\u001b[39;00m obj \u001b[39mis\u001b[39;00m \u001b[39mnot\u001b[39;00m \u001b[39mNone\u001b[39;00m:\n\u001b[0;32m    125\u001b[0m     \u001b[39m# delegate only on instances, not the classes.\u001b[39;00m\n\u001b[0;32m    126\u001b[0m     \u001b[39m# this is to allow access to the docstrings.\u001b[39;00m\n\u001b[1;32m--> 127\u001b[0m     \u001b[39mif\u001b[39;00m \u001b[39mnot\u001b[39;00m \u001b[39mself\u001b[39;49m\u001b[39m.\u001b[39;49mcheck(obj):\n\u001b[0;32m    128\u001b[0m         \u001b[39mraise\u001b[39;00m attr_err\n\u001b[0;32m    129\u001b[0m     out \u001b[39m=\u001b[39m MethodType(\u001b[39mself\u001b[39m\u001b[39m.\u001b[39mfn, obj)\n",
      "File \u001b[1;32mc:\\Users\\steph\\virtual_environments\\tsvenv\\lib\\site-packages\\sklearn\\svm\\_base.py:819\u001b[0m, in \u001b[0;36mBaseSVC._check_proba\u001b[1;34m(self)\u001b[0m\n\u001b[0;32m    817\u001b[0m \u001b[39mdef\u001b[39;00m \u001b[39m_check_proba\u001b[39m(\u001b[39mself\u001b[39m):\n\u001b[0;32m    818\u001b[0m     \u001b[39mif\u001b[39;00m \u001b[39mnot\u001b[39;00m \u001b[39mself\u001b[39m\u001b[39m.\u001b[39mprobability:\n\u001b[1;32m--> 819\u001b[0m         \u001b[39mraise\u001b[39;00m \u001b[39mAttributeError\u001b[39;00m(\n\u001b[0;32m    820\u001b[0m             \u001b[39m\"\u001b[39m\u001b[39mpredict_proba is not available when  probability=False\u001b[39m\u001b[39m\"\u001b[39m\n\u001b[0;32m    821\u001b[0m         )\n\u001b[0;32m    822\u001b[0m     \u001b[39mif\u001b[39;00m \u001b[39mself\u001b[39m\u001b[39m.\u001b[39m_impl \u001b[39mnot\u001b[39;00m \u001b[39min\u001b[39;00m (\u001b[39m\"\u001b[39m\u001b[39mc_svc\u001b[39m\u001b[39m\"\u001b[39m, \u001b[39m\"\u001b[39m\u001b[39mnu_svc\u001b[39m\u001b[39m\"\u001b[39m):\n\u001b[0;32m    823\u001b[0m         \u001b[39mraise\u001b[39;00m \u001b[39mAttributeError\u001b[39;00m(\u001b[39m\"\u001b[39m\u001b[39mpredict_proba only implemented for SVC and NuSVC\u001b[39m\u001b[39m\"\u001b[39m)\n",
      "\u001b[1;31mAttributeError\u001b[0m: predict_proba is not available when  probability=False"
     ]
    }
   ],
   "source": [
    "for clf in model_dict:\n",
    "    print(clf)\n",
    "    # Define classifer\n",
    "    clf = model_dict[i].fit(X_train, y_train_enc)\n",
    "    y_pred = clf.predict(X_test)\n",
    "    y_proba = clf.predict_proba(X_test)\n",
    "    perf_dict[clf] = logPerf(y_pred, y_proba, X_test)"
   ]
  },
  {
   "cell_type": "code",
   "execution_count": 276,
   "metadata": {},
   "outputs": [
    {
     "name": "stderr",
     "output_type": "stream",
     "text": [
      "c:\\Users\\steph\\virtual_environments\\tsvenv\\lib\\site-packages\\sklearn\\linear_model\\_logistic.py:444: ConvergenceWarning: lbfgs failed to converge (status=1):\n",
      "STOP: TOTAL NO. of ITERATIONS REACHED LIMIT.\n",
      "\n",
      "Increase the number of iterations (max_iter) or scale the data as shown in:\n",
      "    https://scikit-learn.org/stable/modules/preprocessing.html\n",
      "Please also refer to the documentation for alternative solver options:\n",
      "    https://scikit-learn.org/stable/modules/linear_model.html#logistic-regression\n",
      "  n_iter_i = _check_optimize_result(\n",
      "c:\\Users\\steph\\virtual_environments\\tsvenv\\lib\\site-packages\\sklearn\\metrics\\_classification.py:1334: UndefinedMetricWarning: Precision is ill-defined and being set to 0.0 in labels with no predicted samples. Use `zero_division` parameter to control this behavior.\n",
      "  _warn_prf(average, modifier, msg_start, len(result))\n"
     ]
    }
   ],
   "source": [
    "model_name = 'logr_clf'\n",
    "\n",
    "# Define classifer\n",
    "clf = LogisticRegression(random_state=0).fit(X_train, y_train_enc)\n",
    "y_pred = clf.predict(X_test)\n",
    "y_proba = clf.predict_proba(X_test)\n",
    "\n",
    "# Log performance metrics\n",
    "perf_dict[model_name] = {\n",
    "    'accuracy': accuracy_score(y_test_enc, y_pred),\n",
    "    'auc': roc_auc_score(y_test_enc, y_proba, multi_class='ovr'),\n",
    "    'precision': precision_score(y_test_enc, y_pred, average='weighted'),\n",
    "    'recall': recall_score(y_test_enc, y_pred, average='weighted'),\n",
    "    'f1': f1_score(y_test_enc, y_pred, average='weighted'),\n",
    "    'kappa': cohen_kappa_score(y_test_enc, y_pred)\n",
    "}"
   ]
  },
  {
   "cell_type": "code",
   "execution_count": 224,
   "metadata": {},
   "outputs": [
    {
     "data": {
      "text/html": [
       "<div>\n",
       "<style scoped>\n",
       "    .dataframe tbody tr th:only-of-type {\n",
       "        vertical-align: middle;\n",
       "    }\n",
       "\n",
       "    .dataframe tbody tr th {\n",
       "        vertical-align: top;\n",
       "    }\n",
       "\n",
       "    .dataframe thead th {\n",
       "        text-align: right;\n",
       "    }\n",
       "</style>\n",
       "<table border=\"1\" class=\"dataframe\">\n",
       "  <thead>\n",
       "    <tr style=\"text-align: right;\">\n",
       "      <th></th>\n",
       "      <th>accuracy</th>\n",
       "      <th>auc</th>\n",
       "      <th>f1</th>\n",
       "      <th>kappa</th>\n",
       "      <th>precision</th>\n",
       "      <th>recall</th>\n",
       "    </tr>\n",
       "  </thead>\n",
       "  <tbody>\n",
       "    <tr>\n",
       "      <th>logr_clf</th>\n",
       "      <td>0.519841</td>\n",
       "      <td>0.384198</td>\n",
       "      <td>0.502981</td>\n",
       "      <td>0.022786</td>\n",
       "      <td>0.509406</td>\n",
       "      <td>0.519841</td>\n",
       "    </tr>\n",
       "  </tbody>\n",
       "</table>\n",
       "</div>"
      ],
      "text/plain": [
       "          accuracy       auc        f1     kappa  precision    recall\n",
       "logr_clf  0.519841  0.384198  0.502981  0.022786   0.509406  0.519841"
      ]
     },
     "execution_count": 224,
     "metadata": {},
     "output_type": "execute_result"
    }
   ],
   "source": [
    "pd.DataFrame(perf_dict).T"
   ]
  }
 ],
 "metadata": {
  "kernelspec": {
   "display_name": "Python 3.9.2 ('tsvenv')",
   "language": "python",
   "name": "python3"
  },
  "language_info": {
   "codemirror_mode": {
    "name": "ipython",
    "version": 3
   },
   "file_extension": ".py",
   "mimetype": "text/x-python",
   "name": "python",
   "nbconvert_exporter": "python",
   "pygments_lexer": "ipython3",
   "version": "3.9.2"
  },
  "orig_nbformat": 4,
  "vscode": {
   "interpreter": {
    "hash": "ca79086319ac6b46cd212423225a0eb813d79d2ebe208d50fdbd75dfda0185ab"
   }
  }
 },
 "nbformat": 4,
 "nbformat_minor": 2
}

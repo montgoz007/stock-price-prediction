{
 "cells": [
  {
   "cell_type": "code",
   "execution_count": 15,
   "metadata": {},
   "outputs": [],
   "source": [
    "import pandas as pd\n",
    "import numpy as np\n",
    "import matplotlib.pyplot as plt\n",
    "import datetime as dt\n",
    "import yfinance as yf\n",
    "import math\n",
    "\n",
    "from sklearn.preprocessing import MinMaxScaler\n",
    "\n",
    "import tensorflow as tf\n",
    "from tensorflow import keras\n",
    "from tensorflow.keras import layers\n",
    "\n",
    "from functions import grangerTests, plot_seasonal_decompose, daySignal, addDateParts"
   ]
  },
  {
   "cell_type": "code",
   "execution_count": 2,
   "metadata": {},
   "outputs": [
    {
     "name": "stderr",
     "output_type": "stream",
     "text": [
      "c:\\Users\\steph\\OneDrive\\Documents\\GitHub\\stock-price-prediction\\functions.py:83: FutureWarning: weekofyear and week have been deprecated, please use DatetimeIndex.isocalendar().week instead, which returns a Series. To exactly reproduce the behavior of week and weekofyear and return an Index, you may call pd.Int64Index(idx.isocalendar().week)\n",
      "  df['week'] = df.index.week\n"
     ]
    },
    {
     "data": {
      "text/html": [
       "<div>\n",
       "<style scoped>\n",
       "    .dataframe tbody tr th:only-of-type {\n",
       "        vertical-align: middle;\n",
       "    }\n",
       "\n",
       "    .dataframe tbody tr th {\n",
       "        vertical-align: top;\n",
       "    }\n",
       "\n",
       "    .dataframe thead th {\n",
       "        text-align: right;\n",
       "    }\n",
       "</style>\n",
       "<table border=\"1\" class=\"dataframe\">\n",
       "  <thead>\n",
       "    <tr style=\"text-align: right;\">\n",
       "      <th></th>\n",
       "      <th>Date</th>\n",
       "      <th>Open</th>\n",
       "      <th>High</th>\n",
       "      <th>Low</th>\n",
       "      <th>Close</th>\n",
       "      <th>Volume</th>\n",
       "      <th>day_change</th>\n",
       "      <th>day_change_pct</th>\n",
       "      <th>day_change_signal</th>\n",
       "      <th>Close_lag1</th>\n",
       "      <th>High_lag1</th>\n",
       "      <th>Low_lag1</th>\n",
       "      <th>day_of_year</th>\n",
       "      <th>day_of_week</th>\n",
       "      <th>week</th>\n",
       "      <th>month</th>\n",
       "    </tr>\n",
       "  </thead>\n",
       "  <tbody>\n",
       "    <tr>\n",
       "      <th>0</th>\n",
       "      <td>2017-11-09 00:00:00+00:00</td>\n",
       "      <td>308.644989</td>\n",
       "      <td>329.451996</td>\n",
       "      <td>307.056000</td>\n",
       "      <td>320.884003</td>\n",
       "      <td>893249984</td>\n",
       "      <td>12.239014</td>\n",
       "      <td>3.965402</td>\n",
       "      <td>1</td>\n",
       "      <td>320.884003</td>\n",
       "      <td>329.451996</td>\n",
       "      <td>307.056000</td>\n",
       "      <td>9</td>\n",
       "      <td>3</td>\n",
       "      <td>45</td>\n",
       "      <td>11</td>\n",
       "    </tr>\n",
       "    <tr>\n",
       "      <th>1</th>\n",
       "      <td>2017-11-10 00:00:00+00:00</td>\n",
       "      <td>320.670990</td>\n",
       "      <td>324.717987</td>\n",
       "      <td>294.541992</td>\n",
       "      <td>299.252991</td>\n",
       "      <td>885985984</td>\n",
       "      <td>-21.417999</td>\n",
       "      <td>-6.679120</td>\n",
       "      <td>-1</td>\n",
       "      <td>320.884003</td>\n",
       "      <td>329.451996</td>\n",
       "      <td>307.056000</td>\n",
       "      <td>10</td>\n",
       "      <td>4</td>\n",
       "      <td>45</td>\n",
       "      <td>11</td>\n",
       "    </tr>\n",
       "    <tr>\n",
       "      <th>2</th>\n",
       "      <td>2017-11-11 00:00:00+00:00</td>\n",
       "      <td>298.585999</td>\n",
       "      <td>319.453003</td>\n",
       "      <td>298.191986</td>\n",
       "      <td>314.681000</td>\n",
       "      <td>842300992</td>\n",
       "      <td>16.095001</td>\n",
       "      <td>5.390407</td>\n",
       "      <td>1</td>\n",
       "      <td>299.252991</td>\n",
       "      <td>324.717987</td>\n",
       "      <td>294.541992</td>\n",
       "      <td>11</td>\n",
       "      <td>5</td>\n",
       "      <td>45</td>\n",
       "      <td>11</td>\n",
       "    </tr>\n",
       "    <tr>\n",
       "      <th>3</th>\n",
       "      <td>2017-11-12 00:00:00+00:00</td>\n",
       "      <td>314.690002</td>\n",
       "      <td>319.153015</td>\n",
       "      <td>298.513000</td>\n",
       "      <td>307.907990</td>\n",
       "      <td>1613479936</td>\n",
       "      <td>-6.782013</td>\n",
       "      <td>-2.155141</td>\n",
       "      <td>-1</td>\n",
       "      <td>314.681000</td>\n",
       "      <td>319.453003</td>\n",
       "      <td>298.191986</td>\n",
       "      <td>12</td>\n",
       "      <td>6</td>\n",
       "      <td>45</td>\n",
       "      <td>11</td>\n",
       "    </tr>\n",
       "    <tr>\n",
       "      <th>4</th>\n",
       "      <td>2017-11-13 00:00:00+00:00</td>\n",
       "      <td>307.024994</td>\n",
       "      <td>328.415009</td>\n",
       "      <td>307.024994</td>\n",
       "      <td>316.716003</td>\n",
       "      <td>1041889984</td>\n",
       "      <td>9.691010</td>\n",
       "      <td>3.156424</td>\n",
       "      <td>1</td>\n",
       "      <td>307.907990</td>\n",
       "      <td>319.153015</td>\n",
       "      <td>298.513000</td>\n",
       "      <td>13</td>\n",
       "      <td>0</td>\n",
       "      <td>46</td>\n",
       "      <td>11</td>\n",
       "    </tr>\n",
       "    <tr>\n",
       "      <th>...</th>\n",
       "      <td>...</td>\n",
       "      <td>...</td>\n",
       "      <td>...</td>\n",
       "      <td>...</td>\n",
       "      <td>...</td>\n",
       "      <td>...</td>\n",
       "      <td>...</td>\n",
       "      <td>...</td>\n",
       "      <td>...</td>\n",
       "      <td>...</td>\n",
       "      <td>...</td>\n",
       "      <td>...</td>\n",
       "      <td>...</td>\n",
       "      <td>...</td>\n",
       "      <td>...</td>\n",
       "      <td>...</td>\n",
       "    </tr>\n",
       "    <tr>\n",
       "      <th>1902</th>\n",
       "      <td>2023-01-24 00:00:00+00:00</td>\n",
       "      <td>1627.848267</td>\n",
       "      <td>1639.723877</td>\n",
       "      <td>1551.389771</td>\n",
       "      <td>1556.604248</td>\n",
       "      <td>8180274691</td>\n",
       "      <td>-71.244019</td>\n",
       "      <td>-4.376576</td>\n",
       "      <td>-1</td>\n",
       "      <td>1628.251099</td>\n",
       "      <td>1641.218140</td>\n",
       "      <td>1607.903076</td>\n",
       "      <td>24</td>\n",
       "      <td>1</td>\n",
       "      <td>4</td>\n",
       "      <td>1</td>\n",
       "    </tr>\n",
       "    <tr>\n",
       "      <th>1903</th>\n",
       "      <td>2023-01-25 00:00:00+00:00</td>\n",
       "      <td>1556.807495</td>\n",
       "      <td>1632.241699</td>\n",
       "      <td>1530.797852</td>\n",
       "      <td>1611.711060</td>\n",
       "      <td>10598973448</td>\n",
       "      <td>54.903564</td>\n",
       "      <td>3.526677</td>\n",
       "      <td>1</td>\n",
       "      <td>1556.604248</td>\n",
       "      <td>1639.723877</td>\n",
       "      <td>1551.389771</td>\n",
       "      <td>25</td>\n",
       "      <td>2</td>\n",
       "      <td>4</td>\n",
       "      <td>1</td>\n",
       "    </tr>\n",
       "    <tr>\n",
       "      <th>1904</th>\n",
       "      <td>2023-01-26 00:00:00+00:00</td>\n",
       "      <td>1611.080933</td>\n",
       "      <td>1626.198242</td>\n",
       "      <td>1586.598145</td>\n",
       "      <td>1603.105957</td>\n",
       "      <td>8395315241</td>\n",
       "      <td>-7.974976</td>\n",
       "      <td>-0.495008</td>\n",
       "      <td>-1</td>\n",
       "      <td>1611.711060</td>\n",
       "      <td>1632.241699</td>\n",
       "      <td>1530.797852</td>\n",
       "      <td>26</td>\n",
       "      <td>3</td>\n",
       "      <td>4</td>\n",
       "      <td>1</td>\n",
       "    </tr>\n",
       "    <tr>\n",
       "      <th>1905</th>\n",
       "      <td>2023-01-27 00:00:00+00:00</td>\n",
       "      <td>1603.080078</td>\n",
       "      <td>1617.000854</td>\n",
       "      <td>1565.244995</td>\n",
       "      <td>1598.156494</td>\n",
       "      <td>8124465373</td>\n",
       "      <td>-4.923584</td>\n",
       "      <td>-0.307133</td>\n",
       "      <td>-1</td>\n",
       "      <td>1603.105957</td>\n",
       "      <td>1626.198242</td>\n",
       "      <td>1586.598145</td>\n",
       "      <td>27</td>\n",
       "      <td>4</td>\n",
       "      <td>4</td>\n",
       "      <td>1</td>\n",
       "    </tr>\n",
       "    <tr>\n",
       "      <th>1906</th>\n",
       "      <td>2023-01-28 00:00:00+00:00</td>\n",
       "      <td>1599.075195</td>\n",
       "      <td>1604.275146</td>\n",
       "      <td>1569.188965</td>\n",
       "      <td>1577.880371</td>\n",
       "      <td>6117124608</td>\n",
       "      <td>-21.194824</td>\n",
       "      <td>-1.325443</td>\n",
       "      <td>-1</td>\n",
       "      <td>1598.156494</td>\n",
       "      <td>1617.000854</td>\n",
       "      <td>1565.244995</td>\n",
       "      <td>28</td>\n",
       "      <td>5</td>\n",
       "      <td>4</td>\n",
       "      <td>1</td>\n",
       "    </tr>\n",
       "  </tbody>\n",
       "</table>\n",
       "<p>1907 rows × 16 columns</p>\n",
       "</div>"
      ],
      "text/plain": [
       "                          Date         Open         High          Low  \\\n",
       "0    2017-11-09 00:00:00+00:00   308.644989   329.451996   307.056000   \n",
       "1    2017-11-10 00:00:00+00:00   320.670990   324.717987   294.541992   \n",
       "2    2017-11-11 00:00:00+00:00   298.585999   319.453003   298.191986   \n",
       "3    2017-11-12 00:00:00+00:00   314.690002   319.153015   298.513000   \n",
       "4    2017-11-13 00:00:00+00:00   307.024994   328.415009   307.024994   \n",
       "...                        ...          ...          ...          ...   \n",
       "1902 2023-01-24 00:00:00+00:00  1627.848267  1639.723877  1551.389771   \n",
       "1903 2023-01-25 00:00:00+00:00  1556.807495  1632.241699  1530.797852   \n",
       "1904 2023-01-26 00:00:00+00:00  1611.080933  1626.198242  1586.598145   \n",
       "1905 2023-01-27 00:00:00+00:00  1603.080078  1617.000854  1565.244995   \n",
       "1906 2023-01-28 00:00:00+00:00  1599.075195  1604.275146  1569.188965   \n",
       "\n",
       "            Close       Volume  day_change  day_change_pct  day_change_signal  \\\n",
       "0      320.884003    893249984   12.239014        3.965402                  1   \n",
       "1      299.252991    885985984  -21.417999       -6.679120                 -1   \n",
       "2      314.681000    842300992   16.095001        5.390407                  1   \n",
       "3      307.907990   1613479936   -6.782013       -2.155141                 -1   \n",
       "4      316.716003   1041889984    9.691010        3.156424                  1   \n",
       "...           ...          ...         ...             ...                ...   \n",
       "1902  1556.604248   8180274691  -71.244019       -4.376576                 -1   \n",
       "1903  1611.711060  10598973448   54.903564        3.526677                  1   \n",
       "1904  1603.105957   8395315241   -7.974976       -0.495008                 -1   \n",
       "1905  1598.156494   8124465373   -4.923584       -0.307133                 -1   \n",
       "1906  1577.880371   6117124608  -21.194824       -1.325443                 -1   \n",
       "\n",
       "       Close_lag1    High_lag1     Low_lag1  day_of_year  day_of_week  week  \\\n",
       "0      320.884003   329.451996   307.056000            9            3    45   \n",
       "1      320.884003   329.451996   307.056000           10            4    45   \n",
       "2      299.252991   324.717987   294.541992           11            5    45   \n",
       "3      314.681000   319.453003   298.191986           12            6    45   \n",
       "4      307.907990   319.153015   298.513000           13            0    46   \n",
       "...           ...          ...          ...          ...          ...   ...   \n",
       "1902  1628.251099  1641.218140  1607.903076           24            1     4   \n",
       "1903  1556.604248  1639.723877  1551.389771           25            2     4   \n",
       "1904  1611.711060  1632.241699  1530.797852           26            3     4   \n",
       "1905  1603.105957  1626.198242  1586.598145           27            4     4   \n",
       "1906  1598.156494  1617.000854  1565.244995           28            5     4   \n",
       "\n",
       "      month  \n",
       "0        11  \n",
       "1        11  \n",
       "2        11  \n",
       "3        11  \n",
       "4        11  \n",
       "...     ...  \n",
       "1902      1  \n",
       "1903      1  \n",
       "1904      1  \n",
       "1905      1  \n",
       "1906      1  \n",
       "\n",
       "[1907 rows x 16 columns]"
      ]
     },
     "execution_count": 2,
     "metadata": {},
     "output_type": "execute_result"
    }
   ],
   "source": [
    "#define the ticker symbol\n",
    "tickerSymbol = 'ETH-USD' #'MSFT'\n",
    "\n",
    "# Date period\n",
    "start = dt.datetime(2010,1,1)\n",
    "end = dt.datetime.now()\n",
    "\n",
    "#get data on this ticker\n",
    "tickerData = yf.Ticker(tickerSymbol)\n",
    "#get the historical prices for this ticker\n",
    "df = tickerData.history(period='1D', start=start, end=end)\n",
    "\n",
    "# Removing features with constant values\n",
    "df = df.loc[:,df.apply(pd.Series.nunique) != 1]\n",
    "\n",
    "# Some calculated variables\n",
    "df['day_change'] = df['Close'] - df['Open']\n",
    "df['day_change_pct'] = (df['day_change'] / df['Open']) * 100\n",
    "df['day_change_signal'] = df['day_change'].apply(daySignal)\n",
    "\n",
    "# Lagging close, high and low by one day\n",
    "for feature in ['Close', 'High', 'Low']:\n",
    "    df[f\"{feature}_lag1\"] = df[feature].shift(1).bfill() \n",
    "\n",
    "# Adding date features\n",
    "df = addDateParts(df)\n",
    "\n",
    "# Exit datetime index\n",
    "df = df.reset_index()\n",
    "\n",
    "# View dataframe\n",
    "df"
   ]
  },
  {
   "attachments": {},
   "cell_type": "markdown",
   "metadata": {},
   "source": [
    "## Pre-processing"
   ]
  },
  {
   "attachments": {},
   "cell_type": "markdown",
   "metadata": {},
   "source": [
    "https://medium.com/the-handbook-of-coding-in-finance/stock-prices-prediction-using-long-short-term-memory-lstm-model-in-python-734dd1ed6827"
   ]
  },
  {
   "cell_type": "code",
   "execution_count": 6,
   "metadata": {},
   "outputs": [],
   "source": [
    "close_prices = df[['Date', 'Close']].set_index('Date')\n",
    "values = close_prices.values\n",
    "training_data_len = math.ceil(len(values)* 0.8)\n",
    "\n",
    "scaler = MinMaxScaler(feature_range=(0,1))\n",
    "scaled_data = scaler.fit_transform(values.reshape(-1,1))\n",
    "train_data = scaled_data[0: training_data_len, :]\n",
    "\n",
    "x_train = []\n",
    "y_train = []\n",
    "\n",
    "for i in range(60, len(train_data)):\n",
    "    x_train.append(train_data[i-60:i, 0])\n",
    "    y_train.append(train_data[i, 0])\n",
    "    \n",
    "x_train, y_train = np.array(x_train), np.array(y_train)\n",
    "x_train = np.reshape(x_train, (x_train.shape[0], x_train.shape[1], 1))"
   ]
  },
  {
   "attachments": {},
   "cell_type": "markdown",
   "metadata": {},
   "source": [
    "### Preparation of test set"
   ]
  },
  {
   "cell_type": "code",
   "execution_count": 10,
   "metadata": {},
   "outputs": [],
   "source": [
    "test_data = scaled_data[training_data_len-60: , : ]\n",
    "x_test = []\n",
    "y_test = values[training_data_len:]\n",
    "\n",
    "for i in range(60, len(test_data)):\n",
    "  x_test.append(test_data[i-60:i, 0])\n",
    "\n",
    "x_test = np.array(x_test)\n",
    "x_test = np.reshape(x_test, (x_test.shape[0], x_test.shape[1], 1))"
   ]
  },
  {
   "attachments": {},
   "cell_type": "markdown",
   "metadata": {},
   "source": [
    "## LSTM"
   ]
  },
  {
   "cell_type": "code",
   "execution_count": 12,
   "metadata": {},
   "outputs": [
    {
     "name": "stdout",
     "output_type": "stream",
     "text": [
      "Model: \"sequential\"\n",
      "_________________________________________________________________\n",
      " Layer (type)                Output Shape              Param #   \n",
      "=================================================================\n",
      " lstm (LSTM)                 (None, 60, 100)           40800     \n",
      "                                                                 \n",
      " lstm_1 (LSTM)               (None, 100)               80400     \n",
      "                                                                 \n",
      " dense (Dense)               (None, 25)                2525      \n",
      "                                                                 \n",
      " dense_1 (Dense)             (None, 1)                 26        \n",
      "                                                                 \n",
      "=================================================================\n",
      "Total params: 123,751\n",
      "Trainable params: 123,751\n",
      "Non-trainable params: 0\n",
      "_________________________________________________________________\n"
     ]
    }
   ],
   "source": [
    "model = keras.Sequential()\n",
    "model.add(layers.LSTM(100, return_sequences=True, input_shape=(x_train.shape[1], 1)))\n",
    "model.add(layers.LSTM(100, return_sequences=False))\n",
    "model.add(layers.Dense(25))\n",
    "model.add(layers.Dense(1))\n",
    "model.summary()"
   ]
  },
  {
   "cell_type": "code",
   "execution_count": 13,
   "metadata": {},
   "outputs": [
    {
     "name": "stdout",
     "output_type": "stream",
     "text": [
      "Epoch 1/3\n",
      "1466/1466 [==============================] - 46s 28ms/step - loss: 0.0023\n",
      "Epoch 2/3\n",
      "1466/1466 [==============================] - 40s 27ms/step - loss: 0.0011\n",
      "Epoch 3/3\n",
      "1466/1466 [==============================] - 37s 25ms/step - loss: 8.2015e-04\n"
     ]
    },
    {
     "data": {
      "text/plain": [
       "<keras.callbacks.History at 0x1dc9f255f40>"
      ]
     },
     "execution_count": 13,
     "metadata": {},
     "output_type": "execute_result"
    }
   ],
   "source": [
    "model.compile(optimizer='adam', loss='mean_squared_error')\n",
    "model.fit(x_train, y_train, batch_size= 1, epochs=3)"
   ]
  },
  {
   "cell_type": "code",
   "execution_count": 14,
   "metadata": {},
   "outputs": [
    {
     "name": "stdout",
     "output_type": "stream",
     "text": [
      "12/12 [==============================] - 2s 32ms/step\n"
     ]
    },
    {
     "data": {
      "text/plain": [
       "76.21486345426304"
      ]
     },
     "execution_count": 14,
     "metadata": {},
     "output_type": "execute_result"
    }
   ],
   "source": [
    "predictions = model.predict(x_test)\n",
    "predictions = scaler.inverse_transform(predictions)\n",
    "rmse = np.sqrt(np.mean(predictions - y_test)**2)\n",
    "rmse"
   ]
  },
  {
   "cell_type": "code",
   "execution_count": 26,
   "metadata": {},
   "outputs": [
    {
     "name": "stdout",
     "output_type": "stream",
     "text": [
      " MAPE: 4.9335304337512635\n",
      " R2: 97.02411200224994\n"
     ]
    }
   ],
   "source": [
    "from sklearn.metrics import r2_score, mean_absolute_percentage_error\n",
    "\n",
    "print(f\" MAPE: {mean_absolute_percentage_error(y_test, predictions)*100}\")\n",
    "print(f\" R2: {r2_score(y_test, predictions)*100}\")"
   ]
  },
  {
   "attachments": {},
   "cell_type": "markdown",
   "metadata": {},
   "source": [
    "### Visualizing the Predicted Prices"
   ]
  },
  {
   "cell_type": "code",
   "execution_count": 18,
   "metadata": {},
   "outputs": [],
   "source": [
    "import plotly_express as px"
   ]
  },
  {
   "cell_type": "code",
   "execution_count": 20,
   "metadata": {},
   "outputs": [
    {
     "name": "stderr",
     "output_type": "stream",
     "text": [
      "C:\\Users\\steph\\AppData\\Local\\Temp\\ipykernel_15288\\101665598.py:4: SettingWithCopyWarning: \n",
      "A value is trying to be set on a copy of a slice from a DataFrame.\n",
      "Try using .loc[row_indexer,col_indexer] = value instead\n",
      "\n",
      "See the caveats in the documentation: https://pandas.pydata.org/pandas-docs/stable/user_guide/indexing.html#returning-a-view-versus-a-copy\n",
      "  validation['Predictions'] = predictions\n"
     ]
    },
    {
     "data": {
      "image/png": "[encoded data removed]",
      "text/plain": [
       "<Figure size 1600x800 with 1 Axes>"
      ]
     },
     "metadata": {},
     "output_type": "display_data"
    }
   ],
   "source": [
    "data = df.filter(['Date', 'Close']).set_index('Date')\n",
    "train = data[:training_data_len]\n",
    "validation = data[training_data_len:]\n",
    "validation['Predictions'] = predictions\n",
    "plt.figure(figsize=(16,8))\n",
    "plt.title('Model')\n",
    "plt.xlabel('Date')\n",
    "plt.ylabel('Close Price USD ($)')\n",
    "plt.plot(train)\n",
    "plt.plot(validation[['Close', 'Predictions']])\n",
    "plt.legend(['Train', 'Val', 'Predictions'], loc='lower right')\n",
    "plt.show()"
   ]
  }
 ],
 "metadata": {
  "kernelspec": {
   "display_name": "Python 3.9.2 ('tsvenv')",
   "language": "python",
   "name": "python3"
  },
  "language_info": {
   "codemirror_mode": {
    "name": "ipython",
    "version": 3
   },
   "file_extension": ".py",
   "mimetype": "text/x-python",
   "name": "python",
   "nbconvert_exporter": "python",
   "pygments_lexer": "ipython3",
   "version": "3.9.2"
  },
  "orig_nbformat": 4,
  "vscode": {
   "interpreter": {
    "hash": "ca79086319ac6b46cd212423225a0eb813d79d2ebe208d50fdbd75dfda0185ab"
   }
  }
 },
 "nbformat": 4,
 "nbformat_minor": 2
}
